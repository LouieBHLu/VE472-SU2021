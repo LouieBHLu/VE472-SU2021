{
 "metadata": {
  "language_info": {
   "codemirror_mode": {
    "name": "ipython",
    "version": 3
   },
   "file_extension": ".py",
   "mimetype": "text/x-python",
   "name": "python",
   "nbconvert_exporter": "python",
   "pygments_lexer": "ipython3",
   "version": "3.7.10"
  },
  "orig_nbformat": 2,
  "kernelspec": {
   "name": "python3710jvsc74a57bd0fdb1327192fb9b81a14c089978111a7708fb21bcc7f70470a9838f2e2a11f35a",
   "display_name": "Python 3.7.10 64-bit ('tf': conda)"
  }
 },
 "nbformat": 4,
 "nbformat_minor": 2,
 "cells": [
  {
   "cell_type": "code",
   "execution_count": 2,
   "metadata": {},
   "outputs": [
    {
     "output_type": "execute_result",
     "data": {
      "text/plain": [
       "['flight_data\\\\1987.csv.bz2',\n",
       " 'flight_data\\\\1988.csv.bz2',\n",
       " 'flight_data\\\\1989.csv.bz2',\n",
       " 'flight_data\\\\1990.csv.bz2',\n",
       " 'flight_data\\\\1991.csv.bz2',\n",
       " 'flight_data\\\\1992.csv.bz2',\n",
       " 'flight_data\\\\1993.csv.bz2',\n",
       " 'flight_data\\\\1994.csv.bz2',\n",
       " 'flight_data\\\\1995.csv.bz2',\n",
       " 'flight_data\\\\1996.csv.bz2',\n",
       " 'flight_data\\\\1997.csv.bz2',\n",
       " 'flight_data\\\\1998.csv.bz2',\n",
       " 'flight_data\\\\1999.csv.bz2',\n",
       " 'flight_data\\\\2000.csv.bz2',\n",
       " 'flight_data\\\\2001.csv.bz2',\n",
       " 'flight_data\\\\2002.csv.bz2',\n",
       " 'flight_data\\\\2003.csv.bz2',\n",
       " 'flight_data\\\\2004.csv.bz2',\n",
       " 'flight_data\\\\2005.csv.bz2',\n",
       " 'flight_data\\\\2006.csv.bz2',\n",
       " 'flight_data\\\\2007.csv.bz2',\n",
       " 'flight_data\\\\2008.csv.bz2']"
      ]
     },
     "metadata": {},
     "execution_count": 2
    }
   ],
   "source": [
    "import bz2\n",
    "import glob\n",
    "import pandas as pd\n",
    "from tqdm import tqdm\n",
    "files = glob.glob(\"flight_data/*.bz2\")\n",
    "files"
   ]
  },
  {
   "cell_type": "code",
   "execution_count": 2,
   "metadata": {},
   "outputs": [
    {
     "output_type": "stream",
     "name": "stderr",
     "text": [
      "  5%|▍         | 1/22 [00:08<02:53,  8.24s/it]Index(['Origin', 'WeatherDelay'], dtype='object')\n",
      "Index(['Origin', 'WeatherDelay'], dtype='object')\n",
      "  9%|▉         | 2/22 [00:37<06:52, 20.63s/it]Index(['Origin', 'WeatherDelay'], dtype='object')\n",
      " 14%|█▎        | 3/22 [01:08<08:04, 25.52s/it]Index(['Origin', 'WeatherDelay'], dtype='object')\n",
      " 18%|█▊        | 4/22 [01:42<08:37, 28.74s/it]Index(['Origin', 'WeatherDelay'], dtype='object')\n",
      " 23%|██▎       | 5/22 [02:13<08:24, 29.68s/it]Index(['Origin', 'WeatherDelay'], dtype='object')\n",
      " 27%|██▋       | 6/22 [02:45<08:05, 30.37s/it]Index(['Origin', 'WeatherDelay'], dtype='object')\n",
      " 32%|███▏      | 7/22 [03:18<07:47, 31.19s/it]Index(['Origin', 'WeatherDelay'], dtype='object')\n",
      " 36%|███▋      | 8/22 [03:52<07:27, 31.98s/it]Index(['Origin', 'WeatherDelay'], dtype='object')\n",
      " 41%|████      | 9/22 [04:33<07:33, 34.86s/it]Index(['Origin', 'WeatherDelay'], dtype='object')\n",
      " 45%|████▌     | 10/22 [05:14<07:20, 36.70s/it]Index(['Origin', 'WeatherDelay'], dtype='object')\n",
      " 50%|█████     | 11/22 [05:53<06:52, 37.54s/it]Index(['Origin', 'WeatherDelay'], dtype='object')\n",
      " 55%|█████▍    | 12/22 [06:32<06:19, 37.95s/it]Index(['Origin', 'WeatherDelay'], dtype='object')\n",
      " 59%|█████▉    | 13/22 [07:19<06:05, 40.60s/it]Index(['Origin', 'WeatherDelay'], dtype='object')\n",
      " 64%|██████▎   | 14/22 [08:04<05:35, 41.91s/it]Index(['Origin', 'WeatherDelay'], dtype='object')\n",
      " 68%|██████▊   | 15/22 [08:55<05:13, 44.79s/it]Index(['Origin', 'WeatherDelay'], dtype='object')\n",
      " 73%|███████▎  | 16/22 [09:42<04:32, 45.37s/it]Index(['Origin', 'WeatherDelay'], dtype='object')\n",
      " 77%|███████▋  | 17/22 [11:14<04:57, 59.44s/it]Index(['Origin', 'WeatherDelay'], dtype='object')\n",
      " 82%|████████▏ | 18/22 [13:02<04:56, 74.03s/it]Index(['Origin', 'WeatherDelay'], dtype='object')\n",
      " 86%|████████▋ | 19/22 [14:37<04:01, 80.48s/it]Index(['Origin', 'WeatherDelay'], dtype='object')\n",
      " 91%|█████████ | 20/22 [16:08<02:46, 83.45s/it]Index(['Origin', 'WeatherDelay'], dtype='object')\n",
      " 95%|█████████▌| 21/22 [17:40<01:25, 85.92s/it]Index(['Origin', 'WeatherDelay'], dtype='object')\n",
      "100%|██████████| 22/22 [19:13<00:00, 52.42s/it]\n"
     ]
    },
    {
     "output_type": "execute_result",
     "data": {
      "text/plain": [
       "        Origin  WeatherDelay\n",
       "0          SAN           NaN\n",
       "1          SAN           NaN\n",
       "2          SAN           NaN\n",
       "3          SAN           NaN\n",
       "4          SAN           NaN\n",
       "...        ...           ...\n",
       "7009723    ATL           NaN\n",
       "7009724    ATL           NaN\n",
       "7009725    PBI           NaN\n",
       "7009726    IAD           NaN\n",
       "7009727    SAT           NaN\n",
       "\n",
       "[123534969 rows x 2 columns]"
      ],
      "text/html": "<div>\n<style scoped>\n    .dataframe tbody tr th:only-of-type {\n        vertical-align: middle;\n    }\n\n    .dataframe tbody tr th {\n        vertical-align: top;\n    }\n\n    .dataframe thead th {\n        text-align: right;\n    }\n</style>\n<table border=\"1\" class=\"dataframe\">\n  <thead>\n    <tr style=\"text-align: right;\">\n      <th></th>\n      <th>Origin</th>\n      <th>WeatherDelay</th>\n    </tr>\n  </thead>\n  <tbody>\n    <tr>\n      <th>0</th>\n      <td>SAN</td>\n      <td>NaN</td>\n    </tr>\n    <tr>\n      <th>1</th>\n      <td>SAN</td>\n      <td>NaN</td>\n    </tr>\n    <tr>\n      <th>2</th>\n      <td>SAN</td>\n      <td>NaN</td>\n    </tr>\n    <tr>\n      <th>3</th>\n      <td>SAN</td>\n      <td>NaN</td>\n    </tr>\n    <tr>\n      <th>4</th>\n      <td>SAN</td>\n      <td>NaN</td>\n    </tr>\n    <tr>\n      <th>...</th>\n      <td>...</td>\n      <td>...</td>\n    </tr>\n    <tr>\n      <th>7009723</th>\n      <td>ATL</td>\n      <td>NaN</td>\n    </tr>\n    <tr>\n      <th>7009724</th>\n      <td>ATL</td>\n      <td>NaN</td>\n    </tr>\n    <tr>\n      <th>7009725</th>\n      <td>PBI</td>\n      <td>NaN</td>\n    </tr>\n    <tr>\n      <th>7009726</th>\n      <td>IAD</td>\n      <td>NaN</td>\n    </tr>\n    <tr>\n      <th>7009727</th>\n      <td>SAT</td>\n      <td>NaN</td>\n    </tr>\n  </tbody>\n</table>\n<p>123534969 rows × 2 columns</p>\n</div>"
     },
     "metadata": {},
     "execution_count": 2
    }
   ],
   "source": [
    "data = pd.DataFrame(columns=['Origin','WeatherDelay'])\n",
    "for file in tqdm(files):\n",
    "    one_file = pd.read_csv(file, compression='bz2', header=0, encoding='latin-1', usecols=[16,25])\n",
    "    print(data.columns)\n",
    "    data = data.append(one_file)\n",
    "\n",
    "data"
   ]
  },
  {
   "cell_type": "code",
   "execution_count": 4,
   "metadata": {},
   "outputs": [
    {
     "output_type": "execute_result",
     "data": {
      "text/plain": [
       "Origin\n",
       "DFW    72276\n",
       "ATL    58137\n",
       "ORD    57754\n",
       "dtype: int64"
      ]
     },
     "metadata": {},
     "execution_count": 4
    }
   ],
   "source": [
    "p2 = data[['Origin','WeatherDelay']]\n",
    "p2 = p2.dropna()\n",
    "p2 = p2[p2['WeatherDelay'] > 0]\n",
    "top3 = p2.groupby('Origin').size()\n",
    "top3.sort_values(ascending=False).head(3)"
   ]
  },
  {
   "cell_type": "code",
   "execution_count": 4,
   "metadata": {},
   "outputs": [
    {
     "output_type": "stream",
     "name": "stderr",
     "text": [
      "  5%|▍         | 1/22 [00:15<05:17, 15.10s/it]Index(['UniqueCarrier', 'ArrDelay'], dtype='object')\n",
      "  9%|▉         | 2/22 [01:11<13:11, 39.56s/it]Index(['UniqueCarrier', 'ArrDelay'], dtype='object')\n",
      " 14%|█▎        | 3/22 [02:02<14:07, 44.61s/it]Index(['UniqueCarrier', 'ArrDelay'], dtype='object')\n",
      "Index(['UniqueCarrier', 'ArrDelay'], dtype='object')\n",
      " 18%|█▊        | 4/22 [02:17<09:54, 33.01s/it]Index(['UniqueCarrier', 'ArrDelay'], dtype='object')\n",
      " 23%|██▎       | 5/22 [02:36<07:57, 28.08s/it]Index(['UniqueCarrier', 'ArrDelay'], dtype='object')\n",
      " 27%|██▋       | 6/22 [02:58<06:54, 25.92s/it]Index(['UniqueCarrier', 'ArrDelay'], dtype='object')\n",
      " 32%|███▏      | 7/22 [03:19<06:05, 24.36s/it]Index(['UniqueCarrier', 'ArrDelay'], dtype='object')\n",
      " 36%|███▋      | 8/22 [03:40<05:22, 23.06s/it]Index(['UniqueCarrier', 'ArrDelay'], dtype='object')\n",
      " 41%|████      | 9/22 [04:03<05:00, 23.12s/it]Index(['UniqueCarrier', 'ArrDelay'], dtype='object')\n",
      " 45%|████▌     | 10/22 [04:28<04:43, 23.59s/it]Index(['UniqueCarrier', 'ArrDelay'], dtype='object')\n",
      " 50%|█████     | 11/22 [04:54<04:28, 24.45s/it]Index(['UniqueCarrier', 'ArrDelay'], dtype='object')\n",
      " 55%|█████▍    | 12/22 [05:17<03:59, 23.92s/it]Index(['UniqueCarrier', 'ArrDelay'], dtype='object')\n",
      " 59%|█████▉    | 13/22 [05:39<03:30, 23.38s/it]Index(['UniqueCarrier', 'ArrDelay'], dtype='object')\n",
      " 64%|██████▎   | 14/22 [06:02<03:05, 23.25s/it]Index(['UniqueCarrier', 'ArrDelay'], dtype='object')\n",
      " 68%|██████▊   | 15/22 [06:27<02:47, 23.95s/it]Index(['UniqueCarrier', 'ArrDelay'], dtype='object')\n",
      " 73%|███████▎  | 16/22 [06:49<02:19, 23.32s/it]Index(['UniqueCarrier', 'ArrDelay'], dtype='object')\n",
      " 77%|███████▋  | 17/22 [07:21<02:08, 25.76s/it]Index(['UniqueCarrier', 'ArrDelay'], dtype='object')\n",
      " 82%|████████▏ | 18/22 [07:56<01:54, 28.52s/it]Index(['UniqueCarrier', 'ArrDelay'], dtype='object')\n",
      " 86%|████████▋ | 19/22 [08:31<01:31, 30.47s/it]Index(['UniqueCarrier', 'ArrDelay'], dtype='object')\n",
      " 91%|█████████ | 20/22 [09:05<01:03, 31.72s/it]Index(['UniqueCarrier', 'ArrDelay'], dtype='object')\n",
      " 95%|█████████▌| 21/22 [09:42<00:33, 33.25s/it]Index(['UniqueCarrier', 'ArrDelay'], dtype='object')\n",
      "100%|██████████| 22/22 [10:17<00:00, 28.05s/it]\n"
     ]
    },
    {
     "output_type": "execute_result",
     "data": {
      "text/plain": [
       "        UniqueCarrier  ArrDelay\n",
       "0                  PS      23.0\n",
       "1                  PS      14.0\n",
       "2                  PS      29.0\n",
       "3                  PS      -2.0\n",
       "4                  PS      33.0\n",
       "...               ...       ...\n",
       "7009723            DL      14.0\n",
       "7009724            DL      -2.0\n",
       "7009725            DL       0.0\n",
       "7009726            DL       9.0\n",
       "7009727            DL      -5.0\n",
       "\n",
       "[123534969 rows x 2 columns]"
      ],
      "text/html": "<div>\n<style scoped>\n    .dataframe tbody tr th:only-of-type {\n        vertical-align: middle;\n    }\n\n    .dataframe tbody tr th {\n        vertical-align: top;\n    }\n\n    .dataframe thead th {\n        text-align: right;\n    }\n</style>\n<table border=\"1\" class=\"dataframe\">\n  <thead>\n    <tr style=\"text-align: right;\">\n      <th></th>\n      <th>UniqueCarrier</th>\n      <th>ArrDelay</th>\n    </tr>\n  </thead>\n  <tbody>\n    <tr>\n      <th>0</th>\n      <td>PS</td>\n      <td>23.0</td>\n    </tr>\n    <tr>\n      <th>1</th>\n      <td>PS</td>\n      <td>14.0</td>\n    </tr>\n    <tr>\n      <th>2</th>\n      <td>PS</td>\n      <td>29.0</td>\n    </tr>\n    <tr>\n      <th>3</th>\n      <td>PS</td>\n      <td>-2.0</td>\n    </tr>\n    <tr>\n      <th>4</th>\n      <td>PS</td>\n      <td>33.0</td>\n    </tr>\n    <tr>\n      <th>...</th>\n      <td>...</td>\n      <td>...</td>\n    </tr>\n    <tr>\n      <th>7009723</th>\n      <td>DL</td>\n      <td>14.0</td>\n    </tr>\n    <tr>\n      <th>7009724</th>\n      <td>DL</td>\n      <td>-2.0</td>\n    </tr>\n    <tr>\n      <th>7009725</th>\n      <td>DL</td>\n      <td>0.0</td>\n    </tr>\n    <tr>\n      <th>7009726</th>\n      <td>DL</td>\n      <td>9.0</td>\n    </tr>\n    <tr>\n      <th>7009727</th>\n      <td>DL</td>\n      <td>-5.0</td>\n    </tr>\n  </tbody>\n</table>\n<p>123534969 rows × 2 columns</p>\n</div>"
     },
     "metadata": {},
     "execution_count": 4
    }
   ],
   "source": [
    "data = pd.DataFrame(columns=[\"UniqueCarrier\", \"ArrDelay\"])\n",
    "for file in tqdm(files):\n",
    "    one_file = pd.read_csv(file, compression='bz2', header=0, encoding='latin-1', usecols=[\"UniqueCarrier\",\"ArrDelay\"])\n",
    "    print(data.columns)\n",
    "    data = data.append(one_file)\n",
    "\n",
    "data"
   ]
  },
  {
   "cell_type": "code",
   "execution_count": 5,
   "metadata": {},
   "outputs": [
    {
     "output_type": "execute_result",
     "data": {
      "text/plain": [
       "UniqueCarrier\n",
       "DL    8825137\n",
       "dtype: int64"
      ]
     },
     "metadata": {},
     "execution_count": 5
    }
   ],
   "source": [
    "p1 = data[[\"UniqueCarrier\", \"ArrDelay\"]]\n",
    "p1 = p1.dropna()\n",
    "p1 = p1[p1[\"ArrDelay\"] > 0]\n",
    "top1 = p1.groupby(\"UniqueCarrier\").size()\n",
    "top1.sort_values(ascending=False).head(1)"
   ]
  },
  {
   "cell_type": "code",
   "execution_count": 6,
   "metadata": {},
   "outputs": [
    {
     "output_type": "stream",
     "name": "stdout",
     "text": [
      "9E's longest delay is \n",
      "1942.0\n",
      "\n",
      "\n",
      "AA's longest delay is \n",
      "1525.0\n",
      "\n",
      "\n",
      "AQ's longest delay is \n",
      "1024.0\n",
      "\n",
      "\n",
      "AS's longest delay is \n",
      "1139.0\n",
      "\n",
      "\n",
      "B6's longest delay is \n",
      "1392.0\n",
      "\n",
      "\n",
      "CO's longest delay is \n",
      "1178.0\n",
      "\n",
      "\n",
      "DH's longest delay is \n",
      "1438.0\n",
      "\n",
      "\n",
      "DL's longest delay is \n",
      "1189.0\n",
      "\n",
      "\n",
      "EA's longest delay is \n",
      "1179.0\n",
      "\n",
      "\n",
      "EV's longest delay is \n",
      "1187.0\n",
      "\n",
      "\n",
      "F9's longest delay is \n",
      "920.0\n",
      "\n",
      "\n",
      "FL's longest delay is \n",
      "1175.0\n",
      "\n",
      "\n",
      "HA's longest delay is \n",
      "1309.0\n",
      "\n",
      "\n",
      "HP's longest delay is \n",
      "1323.0\n",
      "\n",
      "\n",
      "ML (1)'s longest delay is \n",
      "584.0\n",
      "\n",
      "\n",
      "MQ's longest delay is \n",
      "1707.0\n",
      "\n",
      "\n",
      "NW's longest delay is \n",
      "2598.0\n",
      "\n",
      "\n",
      "OH's longest delay is \n",
      "1380.0\n",
      "\n",
      "\n",
      "OO's longest delay is \n",
      "1435.0\n",
      "\n",
      "\n",
      "PA (1)'s longest delay is \n",
      "1438.0\n",
      "\n",
      "\n",
      "PI's longest delay is \n",
      "1381.0\n",
      "\n",
      "\n",
      "PS's longest delay is \n",
      "1033.0\n",
      "\n",
      "\n",
      "TW's longest delay is \n",
      "931.0\n",
      "\n",
      "\n",
      "TZ's longest delay is \n",
      "1300.0\n",
      "\n",
      "\n",
      "UA's longest delay is \n",
      "1612.0\n",
      "\n",
      "\n",
      "US's longest delay is \n",
      "1073.0\n",
      "\n",
      "\n",
      "WN's longest delay is \n",
      "889.0\n",
      "\n",
      "\n",
      "XE's longest delay is \n",
      "939.0\n",
      "\n",
      "\n",
      "YV's longest delay is \n",
      "715.0\n",
      "\n",
      "\n"
     ]
    }
   ],
   "source": [
    "carrierlist = top1.index.to_list()\n",
    "for carrier in carrierlist:\n",
    "    one_carrier = p1[p1['UniqueCarrier'] == carrier]\n",
    "    longest_delay = one_carrier.loc[:,'ArrDelay'].max()\n",
    "    print(carrier + \"'s longest delay is \")\n",
    "    print(longest_delay)\n",
    "    print(\"\\n\")"
   ]
  },
  {
   "cell_type": "code",
   "execution_count": 3,
   "metadata": {},
   "outputs": [],
   "source": [
    "from enum import Enum\n",
    "i = 0\n",
    "class Carrier(Enum):\n",
    "    AA = 1\n",
    "    AQ = 2\n",
    "    AS = 3\n",
    "    B6 = 4\n",
    "    CO = 5\n",
    "    DL = 6\n",
    "    EV = 7\n",
    "    F9 = 8\n",
    "    FL = 9\n",
    "    HA = 10\n",
    "    MQ = 11\n",
    "    NW = 12\n",
    "    OH = 13\n",
    "    OO = 14\n",
    "    UA = 15\n",
    "    US = 16\n",
    "    WN = 17\n",
    "    XE = 18\n",
    "    YV = 19\n",
    "    E9 = 20"
   ]
  },
  {
   "cell_type": "code",
   "execution_count": 11,
   "metadata": {},
   "outputs": [
    {
     "output_type": "execute_result",
     "data": {
      "text/plain": [
       "        Year  Month  DayofMonth  DayOfWeek  DepTime  CRSDepTime  ArrTime  \\\n",
       "0       2008      6          11          3   1941.0        1945   2329.0   \n",
       "1       2008      2          18          1   1749.0        1740   1852.0   \n",
       "2       2008      3          20          4   2051.0        2015   2318.0   \n",
       "3       2008      7          10          4   1457.0        1500   1551.0   \n",
       "4       2008     12          14          7      NaN        1100      NaN   \n",
       "...      ...    ...         ...        ...      ...         ...      ...   \n",
       "139995  2008     10           7          2   1850.0        1855   2031.0   \n",
       "139996  2008      1          31          4   1611.0        1605   1859.0   \n",
       "139997  2008      1          30          3    709.0         710    803.0   \n",
       "139998  2008      5          30          5   2000.0        2006   2142.0   \n",
       "139999  2008      3          18          2      NaN        1202      NaN   \n",
       "\n",
       "        CRSArrTime UniqueCarrier  FlightNum  ... TaxiIn  TaxiOut  Cancelled  \\\n",
       "0             2335            AA        318  ...    3.0     13.0          0   \n",
       "1             1850            9E       5790  ...    4.0     13.0          0   \n",
       "2             2225            UA       1517  ...    4.0     27.0          0   \n",
       "3             1604            YV       2733  ...    3.0      9.0          0   \n",
       "4             1210            9E       2122  ...    NaN      NaN          1   \n",
       "...            ...           ...        ...  ...    ...      ...        ...   \n",
       "139995        2030            AA        657  ...   19.0     16.0          0   \n",
       "139996        1910            WN       3655  ...    5.0      7.0          0   \n",
       "139997         815            AA       1845  ...    3.0     13.0          0   \n",
       "139998        2152            FL        915  ...    8.0     14.0          0   \n",
       "139999        1320            XE       2185  ...    NaN      NaN          1   \n",
       "\n",
       "        CancellationCode  Diverted  CarrierDelay WeatherDelay NASDelay  \\\n",
       "0                    NaN         0           NaN          NaN      NaN   \n",
       "1                    NaN         0           NaN          NaN      NaN   \n",
       "2                    NaN         0          10.0          0.0     17.0   \n",
       "3                    NaN         0           NaN          NaN      NaN   \n",
       "4                      B         0           NaN          NaN      NaN   \n",
       "...                  ...       ...           ...          ...      ...   \n",
       "139995               NaN         0           NaN          NaN      NaN   \n",
       "139996               NaN         0           NaN          NaN      NaN   \n",
       "139997               NaN         0           NaN          NaN      NaN   \n",
       "139998               NaN         0           NaN          NaN      NaN   \n",
       "139999                 B         0           NaN          NaN      NaN   \n",
       "\n",
       "        SecurityDelay  LateAircraftDelay  \n",
       "0                 NaN                NaN  \n",
       "1                 NaN                NaN  \n",
       "2                 0.0               26.0  \n",
       "3                 NaN                NaN  \n",
       "4                 NaN                NaN  \n",
       "...               ...                ...  \n",
       "139995            NaN                NaN  \n",
       "139996            NaN                NaN  \n",
       "139997            NaN                NaN  \n",
       "139998            NaN                NaN  \n",
       "139999            NaN                NaN  \n",
       "\n",
       "[140000 rows x 29 columns]"
      ],
      "text/html": "<div>\n<style scoped>\n    .dataframe tbody tr th:only-of-type {\n        vertical-align: middle;\n    }\n\n    .dataframe tbody tr th {\n        vertical-align: top;\n    }\n\n    .dataframe thead th {\n        text-align: right;\n    }\n</style>\n<table border=\"1\" class=\"dataframe\">\n  <thead>\n    <tr style=\"text-align: right;\">\n      <th></th>\n      <th>Year</th>\n      <th>Month</th>\n      <th>DayofMonth</th>\n      <th>DayOfWeek</th>\n      <th>DepTime</th>\n      <th>CRSDepTime</th>\n      <th>ArrTime</th>\n      <th>CRSArrTime</th>\n      <th>UniqueCarrier</th>\n      <th>FlightNum</th>\n      <th>...</th>\n      <th>TaxiIn</th>\n      <th>TaxiOut</th>\n      <th>Cancelled</th>\n      <th>CancellationCode</th>\n      <th>Diverted</th>\n      <th>CarrierDelay</th>\n      <th>WeatherDelay</th>\n      <th>NASDelay</th>\n      <th>SecurityDelay</th>\n      <th>LateAircraftDelay</th>\n    </tr>\n  </thead>\n  <tbody>\n    <tr>\n      <th>0</th>\n      <td>2008</td>\n      <td>6</td>\n      <td>11</td>\n      <td>3</td>\n      <td>1941.0</td>\n      <td>1945</td>\n      <td>2329.0</td>\n      <td>2335</td>\n      <td>AA</td>\n      <td>318</td>\n      <td>...</td>\n      <td>3.0</td>\n      <td>13.0</td>\n      <td>0</td>\n      <td>NaN</td>\n      <td>0</td>\n      <td>NaN</td>\n      <td>NaN</td>\n      <td>NaN</td>\n      <td>NaN</td>\n      <td>NaN</td>\n    </tr>\n    <tr>\n      <th>1</th>\n      <td>2008</td>\n      <td>2</td>\n      <td>18</td>\n      <td>1</td>\n      <td>1749.0</td>\n      <td>1740</td>\n      <td>1852.0</td>\n      <td>1850</td>\n      <td>9E</td>\n      <td>5790</td>\n      <td>...</td>\n      <td>4.0</td>\n      <td>13.0</td>\n      <td>0</td>\n      <td>NaN</td>\n      <td>0</td>\n      <td>NaN</td>\n      <td>NaN</td>\n      <td>NaN</td>\n      <td>NaN</td>\n      <td>NaN</td>\n    </tr>\n    <tr>\n      <th>2</th>\n      <td>2008</td>\n      <td>3</td>\n      <td>20</td>\n      <td>4</td>\n      <td>2051.0</td>\n      <td>2015</td>\n      <td>2318.0</td>\n      <td>2225</td>\n      <td>UA</td>\n      <td>1517</td>\n      <td>...</td>\n      <td>4.0</td>\n      <td>27.0</td>\n      <td>0</td>\n      <td>NaN</td>\n      <td>0</td>\n      <td>10.0</td>\n      <td>0.0</td>\n      <td>17.0</td>\n      <td>0.0</td>\n      <td>26.0</td>\n    </tr>\n    <tr>\n      <th>3</th>\n      <td>2008</td>\n      <td>7</td>\n      <td>10</td>\n      <td>4</td>\n      <td>1457.0</td>\n      <td>1500</td>\n      <td>1551.0</td>\n      <td>1604</td>\n      <td>YV</td>\n      <td>2733</td>\n      <td>...</td>\n      <td>3.0</td>\n      <td>9.0</td>\n      <td>0</td>\n      <td>NaN</td>\n      <td>0</td>\n      <td>NaN</td>\n      <td>NaN</td>\n      <td>NaN</td>\n      <td>NaN</td>\n      <td>NaN</td>\n    </tr>\n    <tr>\n      <th>4</th>\n      <td>2008</td>\n      <td>12</td>\n      <td>14</td>\n      <td>7</td>\n      <td>NaN</td>\n      <td>1100</td>\n      <td>NaN</td>\n      <td>1210</td>\n      <td>9E</td>\n      <td>2122</td>\n      <td>...</td>\n      <td>NaN</td>\n      <td>NaN</td>\n      <td>1</td>\n      <td>B</td>\n      <td>0</td>\n      <td>NaN</td>\n      <td>NaN</td>\n      <td>NaN</td>\n      <td>NaN</td>\n      <td>NaN</td>\n    </tr>\n    <tr>\n      <th>...</th>\n      <td>...</td>\n      <td>...</td>\n      <td>...</td>\n      <td>...</td>\n      <td>...</td>\n      <td>...</td>\n      <td>...</td>\n      <td>...</td>\n      <td>...</td>\n      <td>...</td>\n      <td>...</td>\n      <td>...</td>\n      <td>...</td>\n      <td>...</td>\n      <td>...</td>\n      <td>...</td>\n      <td>...</td>\n      <td>...</td>\n      <td>...</td>\n      <td>...</td>\n      <td>...</td>\n    </tr>\n    <tr>\n      <th>139995</th>\n      <td>2008</td>\n      <td>10</td>\n      <td>7</td>\n      <td>2</td>\n      <td>1850.0</td>\n      <td>1855</td>\n      <td>2031.0</td>\n      <td>2030</td>\n      <td>AA</td>\n      <td>657</td>\n      <td>...</td>\n      <td>19.0</td>\n      <td>16.0</td>\n      <td>0</td>\n      <td>NaN</td>\n      <td>0</td>\n      <td>NaN</td>\n      <td>NaN</td>\n      <td>NaN</td>\n      <td>NaN</td>\n      <td>NaN</td>\n    </tr>\n    <tr>\n      <th>139996</th>\n      <td>2008</td>\n      <td>1</td>\n      <td>31</td>\n      <td>4</td>\n      <td>1611.0</td>\n      <td>1605</td>\n      <td>1859.0</td>\n      <td>1910</td>\n      <td>WN</td>\n      <td>3655</td>\n      <td>...</td>\n      <td>5.0</td>\n      <td>7.0</td>\n      <td>0</td>\n      <td>NaN</td>\n      <td>0</td>\n      <td>NaN</td>\n      <td>NaN</td>\n      <td>NaN</td>\n      <td>NaN</td>\n      <td>NaN</td>\n    </tr>\n    <tr>\n      <th>139997</th>\n      <td>2008</td>\n      <td>1</td>\n      <td>30</td>\n      <td>3</td>\n      <td>709.0</td>\n      <td>710</td>\n      <td>803.0</td>\n      <td>815</td>\n      <td>AA</td>\n      <td>1845</td>\n      <td>...</td>\n      <td>3.0</td>\n      <td>13.0</td>\n      <td>0</td>\n      <td>NaN</td>\n      <td>0</td>\n      <td>NaN</td>\n      <td>NaN</td>\n      <td>NaN</td>\n      <td>NaN</td>\n      <td>NaN</td>\n    </tr>\n    <tr>\n      <th>139998</th>\n      <td>2008</td>\n      <td>5</td>\n      <td>30</td>\n      <td>5</td>\n      <td>2000.0</td>\n      <td>2006</td>\n      <td>2142.0</td>\n      <td>2152</td>\n      <td>FL</td>\n      <td>915</td>\n      <td>...</td>\n      <td>8.0</td>\n      <td>14.0</td>\n      <td>0</td>\n      <td>NaN</td>\n      <td>0</td>\n      <td>NaN</td>\n      <td>NaN</td>\n      <td>NaN</td>\n      <td>NaN</td>\n      <td>NaN</td>\n    </tr>\n    <tr>\n      <th>139999</th>\n      <td>2008</td>\n      <td>3</td>\n      <td>18</td>\n      <td>2</td>\n      <td>NaN</td>\n      <td>1202</td>\n      <td>NaN</td>\n      <td>1320</td>\n      <td>XE</td>\n      <td>2185</td>\n      <td>...</td>\n      <td>NaN</td>\n      <td>NaN</td>\n      <td>1</td>\n      <td>B</td>\n      <td>0</td>\n      <td>NaN</td>\n      <td>NaN</td>\n      <td>NaN</td>\n      <td>NaN</td>\n      <td>NaN</td>\n    </tr>\n  </tbody>\n</table>\n<p>140000 rows × 29 columns</p>\n</div>"
     },
     "metadata": {},
     "execution_count": 11
    }
   ],
   "source": [
    "data_2008 = pd.read_csv(\"./flight_data/2008.csv.bz2\", compression='bz2', header=0, encoding='latin-1')\n",
    "data_2008 = data_2008.sample(140000)\n",
    "data_2008 = data_2008.reset_index(drop=True)\n",
    "data_2008"
   ]
  },
  {
   "cell_type": "code",
   "execution_count": 12,
   "metadata": {},
   "outputs": [
    {
     "output_type": "stream",
     "name": "stderr",
     "text": [
      "100%|██████████| 140000/140000 [02:48<00:00, 830.25it/s]\n"
     ]
    },
    {
     "output_type": "execute_result",
     "data": {
      "text/plain": [
       "0          1.0\n",
       "1          NaN\n",
       "2         15.0\n",
       "3         19.0\n",
       "4          NaN\n",
       "          ... \n",
       "139995     1.0\n",
       "139996    17.0\n",
       "139997     1.0\n",
       "139998     9.0\n",
       "139999    18.0\n",
       "Name: enumCarrier, Length: 140000, dtype: float64"
      ]
     },
     "metadata": {},
     "execution_count": 12
    }
   ],
   "source": [
    "for i in tqdm(range(140000)):\n",
    "    c = data_2008.loc[i,'UniqueCarrier']\n",
    "    for j in Carrier:\n",
    "        if c == j.name:\n",
    "            data_2008.loc[i,'enumCarrier'] = j.value\n",
    "            break\n",
    "\n",
    "data_2008['enumCarrier']"
   ]
  },
  {
   "cell_type": "code",
   "execution_count": 15,
   "metadata": {},
   "outputs": [],
   "source": [
    "from sklearn.linear_model import LinearRegression\n",
    "from sklearn.model_selection import train_test_split\n",
    "X = data_2008[['DayOfWeek','DepTime','CRSDepTime','ArrTime','CRSArrTime','enumCarrier']].values\n",
    "X = X.astype('int')\n",
    "y = data_2008['DepDelay'].values\n",
    "y = y.astype('int')\n",
    "X_train, X_test, y_train, y_test = train_test_split(X, y, test_size=0.3, random_state=0)"
   ]
  },
  {
   "cell_type": "code",
   "execution_count": 16,
   "metadata": {},
   "outputs": [
    {
     "output_type": "stream",
     "name": "stdout",
     "text": [
      "Training set score: 1.00\nTest set score: 1.00\n"
     ]
    }
   ],
   "source": [
    "lr = LinearRegression().fit(X_train,y_train)\n",
    "print(\"Training set score: {:.2f}\".format(lr.score(X_train, y_train)))\n",
    "print(\"Test set score: {:.2f}\".format(lr.score(X_test, y_test)))"
   ]
  },
  {
   "cell_type": "code",
   "execution_count": 17,
   "metadata": {},
   "outputs": [
    {
     "output_type": "stream",
     "name": "stderr",
     "text": [
      "No handles with labels found to put in legend.\n"
     ]
    },
    {
     "output_type": "display_data",
     "data": {
      "text/plain": "<Figure size 432x288 with 1 Axes>",
      "image/svg+xml": "<?xml version=\"1.0\" encoding=\"utf-8\" standalone=\"no\"?>\r\n<!DOCTYPE svg PUBLIC \"-//W3C//DTD SVG 1.1//EN\"\r\n  \"http://www.w3.org/Graphics/SVG/1.1/DTD/svg11.dtd\">\r\n<!-- Created with matplotlib (https://matplotlib.org/) -->\r\n<svg height=\"248.518125pt\" version=\"1.1\" viewBox=\"0 0 386.845313 248.518125\" width=\"386.845313pt\" xmlns=\"http://www.w3.org/2000/svg\" xmlns:xlink=\"http://www.w3.org/1999/xlink\">\r\n <metadata>\r\n  <rdf:RDF xmlns:cc=\"http://creativecommons.org/ns#\" xmlns:dc=\"http://purl.org/dc/elements/1.1/\" xmlns:rdf=\"http://www.w3.org/1999/02/22-rdf-syntax-ns#\">\r\n   <cc:Work>\r\n    <dc:type rdf:resource=\"http://purl.org/dc/dcmitype/StillImage\"/>\r\n    <dc:date>2021-05-23T21:02:51.694660</dc:date>\r\n    <dc:format>image/svg+xml</dc:format>\r\n    <dc:creator>\r\n     <cc:Agent>\r\n      <dc:title>Matplotlib v3.3.4, https://matplotlib.org/</dc:title>\r\n     </cc:Agent>\r\n    </dc:creator>\r\n   </cc:Work>\r\n  </rdf:RDF>\r\n </metadata>\r\n <defs>\r\n  <style type=\"text/css\">*{stroke-linecap:butt;stroke-linejoin:round;}</style>\r\n </defs>\r\n <g id=\"figure_1\">\r\n  <g id=\"patch_1\">\r\n   <path d=\"M 0 248.518125 \r\nL 386.845313 248.518125 \r\nL 386.845313 0 \r\nL 0 0 \r\nz\r\n\" style=\"fill:none;\"/>\r\n  </g>\r\n  <g id=\"axes_1\">\r\n   <g id=\"patch_2\">\r\n    <path d=\"M 44.845313 224.64 \r\nL 379.645313 224.64 \r\nL 379.645313 7.2 \r\nL 44.845313 7.2 \r\nz\r\n\" style=\"fill:#ffffff;\"/>\r\n   </g>\r\n   <g id=\"matplotlib.axis_1\">\r\n    <g id=\"xtick_1\">\r\n     <g id=\"line2d_1\">\r\n      <defs>\r\n       <path d=\"M 0 0 \r\nL 0 3.5 \r\n\" id=\"mc443fcd621\" style=\"stroke:#000000;stroke-width:0.8;\"/>\r\n      </defs>\r\n      <g>\r\n       <use style=\"stroke:#000000;stroke-width:0.8;\" x=\"60.063494\" xlink:href=\"#mc443fcd621\" y=\"224.64\"/>\r\n      </g>\r\n     </g>\r\n     <g id=\"text_1\">\r\n      <!-- 0 -->\r\n      <g transform=\"translate(56.882244 239.238438)scale(0.1 -0.1)\">\r\n       <defs>\r\n        <path d=\"M 31.78125 66.40625 \r\nQ 24.171875 66.40625 20.328125 58.90625 \r\nQ 16.5 51.421875 16.5 36.375 \r\nQ 16.5 21.390625 20.328125 13.890625 \r\nQ 24.171875 6.390625 31.78125 6.390625 \r\nQ 39.453125 6.390625 43.28125 13.890625 \r\nQ 47.125 21.390625 47.125 36.375 \r\nQ 47.125 51.421875 43.28125 58.90625 \r\nQ 39.453125 66.40625 31.78125 66.40625 \r\nz\r\nM 31.78125 74.21875 \r\nQ 44.046875 74.21875 50.515625 64.515625 \r\nQ 56.984375 54.828125 56.984375 36.375 \r\nQ 56.984375 17.96875 50.515625 8.265625 \r\nQ 44.046875 -1.421875 31.78125 -1.421875 \r\nQ 19.53125 -1.421875 13.0625 8.265625 \r\nQ 6.59375 17.96875 6.59375 36.375 \r\nQ 6.59375 54.828125 13.0625 64.515625 \r\nQ 19.53125 74.21875 31.78125 74.21875 \r\nz\r\n\" id=\"DejaVuSans-48\"/>\r\n       </defs>\r\n       <use xlink:href=\"#DejaVuSans-48\"/>\r\n      </g>\r\n     </g>\r\n    </g>\r\n    <g id=\"xtick_2\">\r\n     <g id=\"line2d_2\">\r\n      <g>\r\n       <use style=\"stroke:#000000;stroke-width:0.8;\" x=\"120.936222\" xlink:href=\"#mc443fcd621\" y=\"224.64\"/>\r\n      </g>\r\n     </g>\r\n     <g id=\"text_2\">\r\n      <!-- 1 -->\r\n      <g transform=\"translate(117.754972 239.238438)scale(0.1 -0.1)\">\r\n       <defs>\r\n        <path d=\"M 12.40625 8.296875 \r\nL 28.515625 8.296875 \r\nL 28.515625 63.921875 \r\nL 10.984375 60.40625 \r\nL 10.984375 69.390625 \r\nL 28.421875 72.90625 \r\nL 38.28125 72.90625 \r\nL 38.28125 8.296875 \r\nL 54.390625 8.296875 \r\nL 54.390625 0 \r\nL 12.40625 0 \r\nz\r\n\" id=\"DejaVuSans-49\"/>\r\n       </defs>\r\n       <use xlink:href=\"#DejaVuSans-49\"/>\r\n      </g>\r\n     </g>\r\n    </g>\r\n    <g id=\"xtick_3\">\r\n     <g id=\"line2d_3\">\r\n      <g>\r\n       <use style=\"stroke:#000000;stroke-width:0.8;\" x=\"181.808949\" xlink:href=\"#mc443fcd621\" y=\"224.64\"/>\r\n      </g>\r\n     </g>\r\n     <g id=\"text_3\">\r\n      <!-- 2 -->\r\n      <g transform=\"translate(178.627699 239.238438)scale(0.1 -0.1)\">\r\n       <defs>\r\n        <path d=\"M 19.1875 8.296875 \r\nL 53.609375 8.296875 \r\nL 53.609375 0 \r\nL 7.328125 0 \r\nL 7.328125 8.296875 \r\nQ 12.9375 14.109375 22.625 23.890625 \r\nQ 32.328125 33.6875 34.8125 36.53125 \r\nQ 39.546875 41.84375 41.421875 45.53125 \r\nQ 43.3125 49.21875 43.3125 52.78125 \r\nQ 43.3125 58.59375 39.234375 62.25 \r\nQ 35.15625 65.921875 28.609375 65.921875 \r\nQ 23.96875 65.921875 18.8125 64.3125 \r\nQ 13.671875 62.703125 7.8125 59.421875 \r\nL 7.8125 69.390625 \r\nQ 13.765625 71.78125 18.9375 73 \r\nQ 24.125 74.21875 28.421875 74.21875 \r\nQ 39.75 74.21875 46.484375 68.546875 \r\nQ 53.21875 62.890625 53.21875 53.421875 \r\nQ 53.21875 48.921875 51.53125 44.890625 \r\nQ 49.859375 40.875 45.40625 35.40625 \r\nQ 44.1875 33.984375 37.640625 27.21875 \r\nQ 31.109375 20.453125 19.1875 8.296875 \r\nz\r\n\" id=\"DejaVuSans-50\"/>\r\n       </defs>\r\n       <use xlink:href=\"#DejaVuSans-50\"/>\r\n      </g>\r\n     </g>\r\n    </g>\r\n    <g id=\"xtick_4\">\r\n     <g id=\"line2d_4\">\r\n      <g>\r\n       <use style=\"stroke:#000000;stroke-width:0.8;\" x=\"242.681676\" xlink:href=\"#mc443fcd621\" y=\"224.64\"/>\r\n      </g>\r\n     </g>\r\n     <g id=\"text_4\">\r\n      <!-- 3 -->\r\n      <g transform=\"translate(239.500426 239.238438)scale(0.1 -0.1)\">\r\n       <defs>\r\n        <path d=\"M 40.578125 39.3125 \r\nQ 47.65625 37.796875 51.625 33 \r\nQ 55.609375 28.21875 55.609375 21.1875 \r\nQ 55.609375 10.40625 48.1875 4.484375 \r\nQ 40.765625 -1.421875 27.09375 -1.421875 \r\nQ 22.515625 -1.421875 17.65625 -0.515625 \r\nQ 12.796875 0.390625 7.625 2.203125 \r\nL 7.625 11.71875 \r\nQ 11.71875 9.328125 16.59375 8.109375 \r\nQ 21.484375 6.890625 26.8125 6.890625 \r\nQ 36.078125 6.890625 40.9375 10.546875 \r\nQ 45.796875 14.203125 45.796875 21.1875 \r\nQ 45.796875 27.640625 41.28125 31.265625 \r\nQ 36.765625 34.90625 28.71875 34.90625 \r\nL 20.21875 34.90625 \r\nL 20.21875 43.015625 \r\nL 29.109375 43.015625 \r\nQ 36.375 43.015625 40.234375 45.921875 \r\nQ 44.09375 48.828125 44.09375 54.296875 \r\nQ 44.09375 59.90625 40.109375 62.90625 \r\nQ 36.140625 65.921875 28.71875 65.921875 \r\nQ 24.65625 65.921875 20.015625 65.03125 \r\nQ 15.375 64.15625 9.8125 62.3125 \r\nL 9.8125 71.09375 \r\nQ 15.4375 72.65625 20.34375 73.4375 \r\nQ 25.25 74.21875 29.59375 74.21875 \r\nQ 40.828125 74.21875 47.359375 69.109375 \r\nQ 53.90625 64.015625 53.90625 55.328125 \r\nQ 53.90625 49.265625 50.4375 45.09375 \r\nQ 46.96875 40.921875 40.578125 39.3125 \r\nz\r\n\" id=\"DejaVuSans-51\"/>\r\n       </defs>\r\n       <use xlink:href=\"#DejaVuSans-51\"/>\r\n      </g>\r\n     </g>\r\n    </g>\r\n    <g id=\"xtick_5\">\r\n     <g id=\"line2d_5\">\r\n      <g>\r\n       <use style=\"stroke:#000000;stroke-width:0.8;\" x=\"303.554403\" xlink:href=\"#mc443fcd621\" y=\"224.64\"/>\r\n      </g>\r\n     </g>\r\n     <g id=\"text_5\">\r\n      <!-- 4 -->\r\n      <g transform=\"translate(300.373153 239.238438)scale(0.1 -0.1)\">\r\n       <defs>\r\n        <path d=\"M 37.796875 64.3125 \r\nL 12.890625 25.390625 \r\nL 37.796875 25.390625 \r\nz\r\nM 35.203125 72.90625 \r\nL 47.609375 72.90625 \r\nL 47.609375 25.390625 \r\nL 58.015625 25.390625 \r\nL 58.015625 17.1875 \r\nL 47.609375 17.1875 \r\nL 47.609375 0 \r\nL 37.796875 0 \r\nL 37.796875 17.1875 \r\nL 4.890625 17.1875 \r\nL 4.890625 26.703125 \r\nz\r\n\" id=\"DejaVuSans-52\"/>\r\n       </defs>\r\n       <use xlink:href=\"#DejaVuSans-52\"/>\r\n      </g>\r\n     </g>\r\n    </g>\r\n    <g id=\"xtick_6\">\r\n     <g id=\"line2d_6\">\r\n      <g>\r\n       <use style=\"stroke:#000000;stroke-width:0.8;\" x=\"364.427131\" xlink:href=\"#mc443fcd621\" y=\"224.64\"/>\r\n      </g>\r\n     </g>\r\n     <g id=\"text_6\">\r\n      <!-- 5 -->\r\n      <g transform=\"translate(361.245881 239.238438)scale(0.1 -0.1)\">\r\n       <defs>\r\n        <path d=\"M 10.796875 72.90625 \r\nL 49.515625 72.90625 \r\nL 49.515625 64.59375 \r\nL 19.828125 64.59375 \r\nL 19.828125 46.734375 \r\nQ 21.96875 47.46875 24.109375 47.828125 \r\nQ 26.265625 48.1875 28.421875 48.1875 \r\nQ 40.625 48.1875 47.75 41.5 \r\nQ 54.890625 34.8125 54.890625 23.390625 \r\nQ 54.890625 11.625 47.5625 5.09375 \r\nQ 40.234375 -1.421875 26.90625 -1.421875 \r\nQ 22.3125 -1.421875 17.546875 -0.640625 \r\nQ 12.796875 0.140625 7.71875 1.703125 \r\nL 7.71875 11.625 \r\nQ 12.109375 9.234375 16.796875 8.0625 \r\nQ 21.484375 6.890625 26.703125 6.890625 \r\nQ 35.15625 6.890625 40.078125 11.328125 \r\nQ 45.015625 15.765625 45.015625 23.390625 \r\nQ 45.015625 31 40.078125 35.4375 \r\nQ 35.15625 39.890625 26.703125 39.890625 \r\nQ 22.75 39.890625 18.8125 39.015625 \r\nQ 14.890625 38.140625 10.796875 36.28125 \r\nz\r\n\" id=\"DejaVuSans-53\"/>\r\n       </defs>\r\n       <use xlink:href=\"#DejaVuSans-53\"/>\r\n      </g>\r\n     </g>\r\n    </g>\r\n   </g>\r\n   <g id=\"matplotlib.axis_2\">\r\n    <g id=\"ytick_1\">\r\n     <g id=\"line2d_7\">\r\n      <defs>\r\n       <path d=\"M 0 0 \r\nL -3.5 0 \r\n\" id=\"maac584ff1c\" style=\"stroke:#000000;stroke-width:0.8;\"/>\r\n      </defs>\r\n      <g>\r\n       <use style=\"stroke:#000000;stroke-width:0.8;\" x=\"44.845313\" xlink:href=\"#maac584ff1c\" y=\"223.091713\"/>\r\n      </g>\r\n     </g>\r\n     <g id=\"text_7\">\r\n      <!-- −1.00 -->\r\n      <g transform=\"translate(7.2 226.890931)scale(0.1 -0.1)\">\r\n       <defs>\r\n        <path d=\"M 10.59375 35.5 \r\nL 73.1875 35.5 \r\nL 73.1875 27.203125 \r\nL 10.59375 27.203125 \r\nz\r\n\" id=\"DejaVuSans-8722\"/>\r\n        <path d=\"M 10.6875 12.40625 \r\nL 21 12.40625 \r\nL 21 0 \r\nL 10.6875 0 \r\nz\r\n\" id=\"DejaVuSans-46\"/>\r\n       </defs>\r\n       <use xlink:href=\"#DejaVuSans-8722\"/>\r\n       <use x=\"83.789062\" xlink:href=\"#DejaVuSans-49\"/>\r\n       <use x=\"147.412109\" xlink:href=\"#DejaVuSans-46\"/>\r\n       <use x=\"179.199219\" xlink:href=\"#DejaVuSans-48\"/>\r\n       <use x=\"242.822266\" xlink:href=\"#DejaVuSans-48\"/>\r\n      </g>\r\n     </g>\r\n    </g>\r\n    <g id=\"ytick_2\">\r\n     <g id=\"line2d_8\">\r\n      <g>\r\n       <use style=\"stroke:#000000;stroke-width:0.8;\" x=\"44.845313\" xlink:href=\"#maac584ff1c\" y=\"197.340695\"/>\r\n      </g>\r\n     </g>\r\n     <g id=\"text_8\">\r\n      <!-- −0.75 -->\r\n      <g transform=\"translate(7.2 201.139914)scale(0.1 -0.1)\">\r\n       <defs>\r\n        <path d=\"M 8.203125 72.90625 \r\nL 55.078125 72.90625 \r\nL 55.078125 68.703125 \r\nL 28.609375 0 \r\nL 18.3125 0 \r\nL 43.21875 64.59375 \r\nL 8.203125 64.59375 \r\nz\r\n\" id=\"DejaVuSans-55\"/>\r\n       </defs>\r\n       <use xlink:href=\"#DejaVuSans-8722\"/>\r\n       <use x=\"83.789062\" xlink:href=\"#DejaVuSans-48\"/>\r\n       <use x=\"147.412109\" xlink:href=\"#DejaVuSans-46\"/>\r\n       <use x=\"179.199219\" xlink:href=\"#DejaVuSans-55\"/>\r\n       <use x=\"242.822266\" xlink:href=\"#DejaVuSans-53\"/>\r\n      </g>\r\n     </g>\r\n    </g>\r\n    <g id=\"ytick_3\">\r\n     <g id=\"line2d_9\">\r\n      <g>\r\n       <use style=\"stroke:#000000;stroke-width:0.8;\" x=\"44.845313\" xlink:href=\"#maac584ff1c\" y=\"171.589677\"/>\r\n      </g>\r\n     </g>\r\n     <g id=\"text_9\">\r\n      <!-- −0.50 -->\r\n      <g transform=\"translate(7.2 175.388896)scale(0.1 -0.1)\">\r\n       <use xlink:href=\"#DejaVuSans-8722\"/>\r\n       <use x=\"83.789062\" xlink:href=\"#DejaVuSans-48\"/>\r\n       <use x=\"147.412109\" xlink:href=\"#DejaVuSans-46\"/>\r\n       <use x=\"179.199219\" xlink:href=\"#DejaVuSans-53\"/>\r\n       <use x=\"242.822266\" xlink:href=\"#DejaVuSans-48\"/>\r\n      </g>\r\n     </g>\r\n    </g>\r\n    <g id=\"ytick_4\">\r\n     <g id=\"line2d_10\">\r\n      <g>\r\n       <use style=\"stroke:#000000;stroke-width:0.8;\" x=\"44.845313\" xlink:href=\"#maac584ff1c\" y=\"145.83866\"/>\r\n      </g>\r\n     </g>\r\n     <g id=\"text_10\">\r\n      <!-- −0.25 -->\r\n      <g transform=\"translate(7.2 149.637879)scale(0.1 -0.1)\">\r\n       <use xlink:href=\"#DejaVuSans-8722\"/>\r\n       <use x=\"83.789062\" xlink:href=\"#DejaVuSans-48\"/>\r\n       <use x=\"147.412109\" xlink:href=\"#DejaVuSans-46\"/>\r\n       <use x=\"179.199219\" xlink:href=\"#DejaVuSans-50\"/>\r\n       <use x=\"242.822266\" xlink:href=\"#DejaVuSans-53\"/>\r\n      </g>\r\n     </g>\r\n    </g>\r\n    <g id=\"ytick_5\">\r\n     <g id=\"line2d_11\">\r\n      <g>\r\n       <use style=\"stroke:#000000;stroke-width:0.8;\" x=\"44.845313\" xlink:href=\"#maac584ff1c\" y=\"120.087642\"/>\r\n      </g>\r\n     </g>\r\n     <g id=\"text_11\">\r\n      <!-- 0.00 -->\r\n      <g transform=\"translate(15.579688 123.886861)scale(0.1 -0.1)\">\r\n       <use xlink:href=\"#DejaVuSans-48\"/>\r\n       <use x=\"63.623047\" xlink:href=\"#DejaVuSans-46\"/>\r\n       <use x=\"95.410156\" xlink:href=\"#DejaVuSans-48\"/>\r\n       <use x=\"159.033203\" xlink:href=\"#DejaVuSans-48\"/>\r\n      </g>\r\n     </g>\r\n    </g>\r\n    <g id=\"ytick_6\">\r\n     <g id=\"line2d_12\">\r\n      <g>\r\n       <use style=\"stroke:#000000;stroke-width:0.8;\" x=\"44.845313\" xlink:href=\"#maac584ff1c\" y=\"94.336625\"/>\r\n      </g>\r\n     </g>\r\n     <g id=\"text_12\">\r\n      <!-- 0.25 -->\r\n      <g transform=\"translate(15.579688 98.135843)scale(0.1 -0.1)\">\r\n       <use xlink:href=\"#DejaVuSans-48\"/>\r\n       <use x=\"63.623047\" xlink:href=\"#DejaVuSans-46\"/>\r\n       <use x=\"95.410156\" xlink:href=\"#DejaVuSans-50\"/>\r\n       <use x=\"159.033203\" xlink:href=\"#DejaVuSans-53\"/>\r\n      </g>\r\n     </g>\r\n    </g>\r\n    <g id=\"ytick_7\">\r\n     <g id=\"line2d_13\">\r\n      <g>\r\n       <use style=\"stroke:#000000;stroke-width:0.8;\" x=\"44.845313\" xlink:href=\"#maac584ff1c\" y=\"68.585607\"/>\r\n      </g>\r\n     </g>\r\n     <g id=\"text_13\">\r\n      <!-- 0.50 -->\r\n      <g transform=\"translate(15.579688 72.384826)scale(0.1 -0.1)\">\r\n       <use xlink:href=\"#DejaVuSans-48\"/>\r\n       <use x=\"63.623047\" xlink:href=\"#DejaVuSans-46\"/>\r\n       <use x=\"95.410156\" xlink:href=\"#DejaVuSans-53\"/>\r\n       <use x=\"159.033203\" xlink:href=\"#DejaVuSans-48\"/>\r\n      </g>\r\n     </g>\r\n    </g>\r\n    <g id=\"ytick_8\">\r\n     <g id=\"line2d_14\">\r\n      <g>\r\n       <use style=\"stroke:#000000;stroke-width:0.8;\" x=\"44.845313\" xlink:href=\"#maac584ff1c\" y=\"42.834589\"/>\r\n      </g>\r\n     </g>\r\n     <g id=\"text_14\">\r\n      <!-- 0.75 -->\r\n      <g transform=\"translate(15.579688 46.633808)scale(0.1 -0.1)\">\r\n       <use xlink:href=\"#DejaVuSans-48\"/>\r\n       <use x=\"63.623047\" xlink:href=\"#DejaVuSans-46\"/>\r\n       <use x=\"95.410156\" xlink:href=\"#DejaVuSans-55\"/>\r\n       <use x=\"159.033203\" xlink:href=\"#DejaVuSans-53\"/>\r\n      </g>\r\n     </g>\r\n    </g>\r\n    <g id=\"ytick_9\">\r\n     <g id=\"line2d_15\">\r\n      <g>\r\n       <use style=\"stroke:#000000;stroke-width:0.8;\" x=\"44.845313\" xlink:href=\"#maac584ff1c\" y=\"17.083572\"/>\r\n      </g>\r\n     </g>\r\n     <g id=\"text_15\">\r\n      <!-- 1.00 -->\r\n      <g transform=\"translate(15.579688 20.88279)scale(0.1 -0.1)\">\r\n       <use xlink:href=\"#DejaVuSans-49\"/>\r\n       <use x=\"63.623047\" xlink:href=\"#DejaVuSans-46\"/>\r\n       <use x=\"95.410156\" xlink:href=\"#DejaVuSans-48\"/>\r\n       <use x=\"159.033203\" xlink:href=\"#DejaVuSans-48\"/>\r\n      </g>\r\n     </g>\r\n    </g>\r\n   </g>\r\n   <g id=\"line2d_16\">\r\n    <defs>\r\n     <path d=\"M -3 3 \r\nL 3 3 \r\nL 3 -3 \r\nL -3 -3 \r\nz\r\n\" id=\"m8009f9bf11\" style=\"stroke:#1f77b4;stroke-linejoin:miter;\"/>\r\n    </defs>\r\n    <g clip-path=\"url(#pcd79f87af7)\">\r\n     <use style=\"fill:#1f77b4;stroke:#1f77b4;stroke-linejoin:miter;\" x=\"60.063494\" xlink:href=\"#m8009f9bf11\" y=\"117.233346\"/>\r\n     <use style=\"fill:#1f77b4;stroke:#1f77b4;stroke-linejoin:miter;\" x=\"120.936222\" xlink:href=\"#m8009f9bf11\" y=\"17.083636\"/>\r\n     <use style=\"fill:#1f77b4;stroke:#1f77b4;stroke-linejoin:miter;\" x=\"181.808949\" xlink:href=\"#m8009f9bf11\" y=\"214.756364\"/>\r\n     <use style=\"fill:#1f77b4;stroke:#1f77b4;stroke-linejoin:miter;\" x=\"242.681676\" xlink:href=\"#m8009f9bf11\" y=\"120.087643\"/>\r\n     <use style=\"fill:#1f77b4;stroke:#1f77b4;stroke-linejoin:miter;\" x=\"303.554403\" xlink:href=\"#m8009f9bf11\" y=\"126.282378\"/>\r\n     <use style=\"fill:#1f77b4;stroke:#1f77b4;stroke-linejoin:miter;\" x=\"364.427131\" xlink:href=\"#m8009f9bf11\" y=\"120.087642\"/>\r\n    </g>\r\n   </g>\r\n   <g id=\"patch_3\">\r\n    <path d=\"M 44.845313 224.64 \r\nL 44.845313 7.2 \r\n\" style=\"fill:none;stroke:#000000;stroke-linecap:square;stroke-linejoin:miter;stroke-width:0.8;\"/>\r\n   </g>\r\n   <g id=\"patch_4\">\r\n    <path d=\"M 379.645313 224.64 \r\nL 379.645313 7.2 \r\n\" style=\"fill:none;stroke:#000000;stroke-linecap:square;stroke-linejoin:miter;stroke-width:0.8;\"/>\r\n   </g>\r\n   <g id=\"patch_5\">\r\n    <path d=\"M 44.845313 224.64 \r\nL 379.645313 224.64 \r\n\" style=\"fill:none;stroke:#000000;stroke-linecap:square;stroke-linejoin:miter;stroke-width:0.8;\"/>\r\n   </g>\r\n   <g id=\"patch_6\">\r\n    <path d=\"M 44.845313 7.2 \r\nL 379.645313 7.2 \r\n\" style=\"fill:none;stroke:#000000;stroke-linecap:square;stroke-linejoin:miter;stroke-width:0.8;\"/>\r\n   </g>\r\n   <g id=\"legend_1\">\r\n    <g id=\"patch_7\">\r\n     <path d=\"M 368.645313 20.2 \r\nL 372.645313 20.2 \r\nQ 374.645313 20.2 374.645313 18.2 \r\nL 374.645313 14.2 \r\nQ 374.645313 12.2 372.645313 12.2 \r\nL 368.645313 12.2 \r\nQ 366.645313 12.2 366.645313 14.2 \r\nL 366.645313 18.2 \r\nQ 366.645313 20.2 368.645313 20.2 \r\nz\r\n\" style=\"fill:#ffffff;opacity:0.8;stroke:#cccccc;stroke-linejoin:miter;\"/>\r\n    </g>\r\n   </g>\r\n  </g>\r\n </g>\r\n <defs>\r\n  <clipPath id=\"pcd79f87af7\">\r\n   <rect height=\"217.44\" width=\"334.8\" x=\"44.845313\" y=\"7.2\"/>\r\n  </clipPath>\r\n </defs>\r\n</svg>\r\n",
      "image/png": "[encoded data removed]"
     },
     "metadata": {
      "needs_background": "light"
     }
    }
   ],
   "source": [
    "import matplotlib.pyplot as plt\n",
    "plt.plot(lr.coef_, 's')\n",
    "plt.legend()\n",
    "plt.savefig('lr-coef.png')\n",
    "plt.show()"
   ]
  }
 ]
}