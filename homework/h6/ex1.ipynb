{
 "metadata": {
  "language_info": {
   "name": "python",
   "version": "3.7.10",
   "mimetype": "text/x-python",
   "codemirror_mode": {
    "name": "ipython",
    "version": 3
   },
   "pygments_lexer": "ipython3",
   "nbconvert_exporter": "python",
   "file_extension": ".py"
  },
  "orig_nbformat": 4,
  "kernelspec": {
   "name": "python3",
   "display_name": "Python 3.7.10 64-bit ('dl': conda)"
  },
  "interpreter": {
   "hash": "b2082a01bff37d6a4c41da9c4c828fbb0b2d39dde0e254e556a9c64bdc607b76"
  }
 },
 "nbformat": 4,
 "nbformat_minor": 2,
 "cells": [
  {
   "cell_type": "markdown",
   "source": [
    "## Problem 1"
   ],
   "metadata": {}
  },
  {
   "cell_type": "code",
   "execution_count": 1,
   "source": [
    "from sklearn.datasets import make_regression\r\n",
    "from matplotlib import pyplot as plt\r\n",
    "import numpy as np\r\n",
    "from sklearn.linear_model import LinearRegression\r\n",
    "import random\r\n",
    "from tqdm import tqdm"
   ],
   "outputs": [],
   "metadata": {}
  },
  {
   "cell_type": "code",
   "execution_count": 2,
   "source": [
    "# X - Protein, y - sugar\r\n",
    "X = np.array([[70], [120], [50], [60], [1], [100], [90], [130], [105], [108]])\r\n",
    "y = np.array([6, 8, 5, 1, 2, 10, 14, 14, 9, 10])\r\n",
    "plt.scatter(X, y)"
   ],
   "outputs": [
    {
     "output_type": "execute_result",
     "data": {
      "text/plain": [
       "<matplotlib.collections.PathCollection at 0x283149f5ec8>"
      ]
     },
     "metadata": {},
     "execution_count": 2
    },
    {
     "output_type": "display_data",
     "data": {
      "text/plain": [
       "<Figure size 432x288 with 1 Axes>"
      ],
      "image/png": "[encoded data removed]"
     },
     "metadata": {
      "needs_background": "light"
     }
    }
   ],
   "metadata": {}
  },
  {
   "cell_type": "code",
   "execution_count": 3,
   "source": [
    "n = X.shape[1]\r\n",
    "r = np.linalg.matrix_rank(X)"
   ],
   "outputs": [],
   "metadata": {}
  },
  {
   "cell_type": "code",
   "execution_count": 4,
   "source": [
    "U, sigma, VT = np.linalg.svd(X, full_matrices=False)\r\n",
    "D_plus = np.diag(np.hstack([1/sigma[:r], np.zeros(n-r)]))\r\n",
    "V = VT.T\r\n",
    "X_plus = V.dot(D_plus).dot(U.T)\r\n",
    "w = X_plus.dot(y)\r\n",
    "error = np.linalg.norm(X.dot(w) - y, ord=2) ** 2\r\n",
    "np.linalg.lstsq(X, y, rcond=None)\r\n",
    "plt.scatter(X, y)\r\n",
    "plt.plot(X, w*X, c='red')"
   ],
   "outputs": [
    {
     "output_type": "execute_result",
     "data": {
      "text/plain": [
       "[<matplotlib.lines.Line2D at 0x28314adec48>]"
      ]
     },
     "metadata": {},
     "execution_count": 4
    },
    {
     "output_type": "display_data",
     "data": {
      "text/plain": [
       "<Figure size 432x288 with 1 Axes>"
      ],
      "image/png": "[encoded data removed]"
     },
     "metadata": {
      "needs_background": "light"
     }
    }
   ],
   "metadata": {}
  },
  {
   "cell_type": "markdown",
   "source": [
    "## Problem 2\n",
    "### a) Standardize the data"
   ],
   "metadata": {}
  },
  {
   "cell_type": "code",
   "execution_count": 5,
   "source": [
    "X = np.array([70, 120, 50, 60, 1, 100, 90, 130, 105, 108])\r\n",
    "y = np.array([6, 8, 5, 1, 2, 10, 14, 14, 9, 10])"
   ],
   "outputs": [],
   "metadata": {}
  },
  {
   "cell_type": "code",
   "execution_count": 6,
   "source": [
    "def standardize(data):\r\n",
    "    mean = data.mean()\r\n",
    "    dev = data.std()\r\n",
    "    data_stan = np.zeros([data.shape[0]])\r\n",
    "\r\n",
    "    for i in range(data.shape[0]):\r\n",
    "        data_stan[i] = (data[i] - mean) / dev\r\n",
    "    return data_stan\r\n",
    "\r\n",
    "X_stan = standardize(X)\r\n",
    "y_stan = standardize(y)"
   ],
   "outputs": [],
   "metadata": {}
  },
  {
   "cell_type": "markdown",
   "source": [
    "### b) SSE"
   ],
   "metadata": {}
  },
  {
   "cell_type": "code",
   "execution_count": 7,
   "source": [
    "a = random.random()\r\n",
    "b = random.random()\r\n",
    "y_pred = b * X_stan + a\r\n",
    "y_pred"
   ],
   "outputs": [
    {
     "output_type": "execute_result",
     "data": {
      "text/plain": [
       "array([0.56242674, 0.77737853, 0.47644602, 0.51943638, 0.26579327,\n",
       "       0.69139781, 0.64840746, 0.82036889, 0.71289299, 0.7257901 ])"
      ]
     },
     "metadata": {},
     "execution_count": 7
    }
   ],
   "metadata": {}
  },
  {
   "cell_type": "code",
   "execution_count": 8,
   "source": [
    "def SSE(y, y_pred):\r\n",
    "    if y.shape != y_pred.shape:\r\n",
    "        raise 0\r\n",
    "\r\n",
    "    sse = 0\r\n",
    "    for i in range(y.shape[0]):\r\n",
    "        sse = sse + abs(y[i] - y_pred[i]) ** 2\r\n",
    "    \r\n",
    "    return sse\r\n",
    "\r\n",
    "sse = SSE(y_stan, y_pred)\r\n",
    "sse"
   ],
   "outputs": [
    {
     "output_type": "execute_result",
     "data": {
      "text/plain": [
       "11.638115712112162"
      ]
     },
     "metadata": {},
     "execution_count": 8
    }
   ],
   "metadata": {}
  },
  {
   "cell_type": "markdown",
   "source": [
    "## Problem 3\n",
    "### b)"
   ],
   "metadata": {}
  },
  {
   "cell_type": "code",
   "execution_count": 9,
   "source": [
    "def df_b(X, y, a, b):    \r\n",
    "    result = 0\r\n",
    "    for i in range(y.shape[0]):\r\n",
    "        result = result + 2 * X[i] *(X[i] * b + a - y[i])\r\n",
    "\r\n",
    "    return result\r\n",
    "\r\n",
    "def df_a(X, y, a, b):\r\n",
    "    result = 0\r\n",
    "    for i in range(y.shape[0]):\r\n",
    "        result = result + 2 * (a + b * X[i] - y[i])\r\n",
    "\r\n",
    "    return result\r\n",
    "\r\n",
    "def gradient_descent(X, y, prec, lr=0.1):\r\n",
    "    b = random.random()\r\n",
    "    a = random.random()\r\n",
    "    loss = 5\r\n",
    "    it = 0\r\n",
    "\r\n",
    "    while loss >= prec and it <= 100:\r\n",
    "        der_a = df_a(X, y, a, b)\r\n",
    "        der_b = df_b(X, y, a, b)\r\n",
    "        a_now = a - lr * der_a\r\n",
    "        b_now = b - lr * der_b\r\n",
    "\r\n",
    "        y_pred = b_now * X + a_now\r\n",
    "        loss = SSE(y, y_pred)\r\n",
    "        a = a_now\r\n",
    "        b = b_now\r\n",
    "        it += 1\r\n",
    "        \r\n",
    "    return a, b, loss"
   ],
   "outputs": [],
   "metadata": {}
  },
  {
   "cell_type": "code",
   "execution_count": 11,
   "source": [
    "gradient_descent(X_stan, y_stan, 0.01, 0.01)"
   ],
   "outputs": [
    {
     "output_type": "execute_result",
     "data": {
      "text/plain": [
       "(-4.827965559165301e+128, 5.695159030081006e+128, 5.574408781839954e+258)"
      ]
     },
     "metadata": {},
     "execution_count": 11
    }
   ],
   "metadata": {}
  },
  {
   "cell_type": "markdown",
   "source": [
    "## Problem 4\r\n",
    "### i) Stochastic Gradient Descent"
   ],
   "metadata": {}
  },
  {
   "cell_type": "code",
   "execution_count": 17,
   "source": [
    "def df_a_single(X_single, y_single, a, b):\r\n",
    "    return 2 * (a + b * X_single - y_single)\r\n",
    "\r\n",
    "def df_b_single(X_single, y_single, a, b):\r\n",
    "    return 2 * X_single * (X_single * b + a - y_single)\r\n",
    "\r\n",
    "def stochastic_gradient_descent(X, y, prec, lr=0.01):\r\n",
    "    # Shuffle\r\n",
    "    order = list()\r\n",
    "    for i in range(X.shape[0]):\r\n",
    "        order.append(i)\r\n",
    "    random.shuffle(order)\r\n",
    "\r\n",
    "    # Start iteration\r\n",
    "    a = random.random()\r\n",
    "    b = random.random()\r\n",
    "    it = 0\r\n",
    "    loss = 5\r\n",
    "\r\n",
    "    while loss >= prec and it <= 100:\r\n",
    "        for i in order:\r\n",
    "            a_now = a - lr * df_a_single(X[i],y[i],a,b)\r\n",
    "            b_now = b - lr * df_b_single(X[i],y[i],a,b)\r\n",
    "\r\n",
    "            y_pred = b_now * X + a_now\r\n",
    "            loss = SSE(y, y_pred)\r\n",
    "            a = a_now\r\n",
    "            b = b_now\r\n",
    "            it += 1\r\n",
    "        \r\n",
    "    return a, b, loss\r\n",
    "\r\n",
    "    "
   ],
   "outputs": [],
   "metadata": {}
  },
  {
   "cell_type": "code",
   "execution_count": 18,
   "source": [
    "stochastic_gradient_descent(X_stan, y_stan, 0.01)"
   ],
   "outputs": [
    {
     "output_type": "stream",
     "name": "stdout",
     "text": [
      "[7, 5, 3, 6, 9, 4, 1, 2, 8, 0]\n"
     ]
    },
    {
     "output_type": "execute_result",
     "data": {
      "text/plain": [
       "(0.06165174623471904, 0.6856693323341998, 4.0898958091663715)"
      ]
     },
     "metadata": {},
     "execution_count": 18
    }
   ],
   "metadata": {}
  },
  {
   "cell_type": "markdown",
   "source": [
    "### ii) Batch Gradient Descent is just the default one and has been implemented above."
   ],
   "metadata": {}
  },
  {
   "cell_type": "code",
   "execution_count": null,
   "source": [],
   "outputs": [],
   "metadata": {}
  }
 ]
}