{
 "metadata": {
  "language_info": {
   "codemirror_mode": {
    "name": "ipython",
    "version": 3
   },
   "file_extension": ".py",
   "mimetype": "text/x-python",
   "name": "python",
   "nbconvert_exporter": "python",
   "pygments_lexer": "ipython3",
   "version": 3
  },
  "orig_nbformat": 4
 },
 "nbformat": 4,
 "nbformat_minor": 2,
 "cells": [
  {
   "cell_type": "code",
   "execution_count": null,
   "metadata": {},
   "outputs": [],
   "source": [
    "\"\"\"\n",
    "We first run `hdfs dfs -put ./grade.csv /` to put the local file \"grade.csv\" into hdfs.\n",
    "\"\"\"\n",
    "from pyspark import SparkConf, SparkContext\n",
    "sc = SparkContext.getOrCreate(SparkConf().setMaster(\"local[*]\"))\t# create an instance\n",
    "\n",
    "# create an RDD from file\n",
    "content = sc.textFile(\"grade.csv\")\n",
    "\n",
    "# .collect() serialize the RDD into a <list>\n",
    "content.collect()\n",
    "\n",
    "def f(x):\n",
    "    a = x.split(',')\n",
    "    return (a[1], int(a[2]))\n",
    "\n",
    "mp = content.map(f)\n",
    "test = mp.reduceByKey(lambda x, y: y if y>x else x)\n",
    "test.collect()\n",
    "\"\"\"\n",
    "Check ex3_result for the result.\n",
    "We don't show the result here because it's too long.\n",
    "\"\"\""
   ]
  },
  {
   "cell_type": "code",
   "execution_count": null,
   "metadata": {},
   "outputs": [],
   "source": [
    "\n",
    "\"\"\"\n",
    "flatmap() function return a serialized result without Key-Value pair structure.\n",
    "\"\"\"\n",
    "fm = content.flatMap(f)\n",
    "fm.collect()"
   ]
  }
 ]
}